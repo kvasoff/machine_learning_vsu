{
 "cells": [
  {
   "cell_type": "markdown",
   "id": "597234aa",
   "metadata": {},
   "source": [
    "# Бэггинг и случайный лес"
   ]
  },
  {
   "cell_type": "markdown",
   "id": "7278eac5",
   "metadata": {},
   "source": [
    "Загрузите датасет digits с помощью функции load_digits из sklearn.datasets и подготовьте матрицу признаков X и ответы на обучающей выборке y (вам потребуются поля data и target в объекте, который возвращает load_digits).\n",
    "\n",
    "Для оценки качества далее нужно будет использовать cross_val_score из sklearn.model_selection с параметром cv=10. Эта функция реализует k-fold cross validation c k равным значению параметра cv. Предлагается использовать k=10, чтобы полученные оценки качества имели небольшой разброс, и было проще проверить полученные ответы. На практике же часто хватает и k=5. Функция cross_val_score будет возвращать numpy.ndarray, в котором будет k чисел - качество в каждом из k экспериментов k-fold cross validation. Для получения среднего значения (которое и будет оценкой качества работы) вызовите метод .mean() у массива, который возвращает cross_val_score."
   ]
  },
  {
   "cell_type": "code",
   "execution_count": 13,
   "id": "1fd42fed",
   "metadata": {},
   "outputs": [],
   "source": [
    "from sklearn import datasets, tree, ensemble\n",
    "from sklearn.model_selection import cross_val_score\n",
    "from sklearn.datasets import load_digits\n",
    "from math import sqrt\n",
    "import numpy as np"
   ]
  },
  {
   "cell_type": "code",
   "execution_count": 14,
   "id": "228f2646",
   "metadata": {},
   "outputs": [
    {
     "name": "stdout",
     "output_type": "stream",
     "text": [
      "(1797, 64)\n"
     ]
    }
   ],
   "source": [
    "# place your code here\n",
    "digits = load_digits()\n",
    "print(digits.data.shape)"
   ]
  },
  {
   "cell_type": "code",
   "execution_count": 15,
   "id": "c782bbc6",
   "metadata": {},
   "outputs": [],
   "source": [
    "X = digits.data\n",
    "y = digits.target\n",
    "\n",
    "def write_answer(cross_val_score, file_name):\n",
    "    with open(file_name, \"w\") as fout:\n",
    "        fout.write(str(cross_val_score))"
   ]
  },
  {
   "cell_type": "markdown",
   "id": "e95f4f54",
   "metadata": {},
   "source": [
    "## Задание 1.\n",
    "Создайте DecisionTreeClassifier с настройками по умолчанию и измерьте качество его работы с помощью cross_val_score. Эта величина и будет ответом в задании 1."
   ]
  },
  {
   "cell_type": "code",
   "execution_count": 16,
   "id": "4336d698",
   "metadata": {},
   "outputs": [
    {
     "name": "stdout",
     "output_type": "stream",
     "text": [
      "0.81743947858473\n"
     ]
    }
   ],
   "source": [
    "# place your code here\n",
    "classifier = tree.DecisionTreeClassifier()\n",
    "x_val_score = cross_val_score(classifier, X, y, cv = 10).mean()\n",
    "write_answer(x_val_score, 'answer_1.txt')\n",
    "print(x_val_score)"
   ]
  },
  {
   "cell_type": "markdown",
   "id": "6da64665",
   "metadata": {},
   "source": [
    "## Задание 2.\n",
    "Воспользуйтесь BaggingClassifier из sklearn.ensemble, чтобы обучить бэггинг над DecisionTreeClassifier. Используйте в BaggingClassifier параметры по умолчанию, задав только количество деревьев равным 100. \n",
    "\n",
    "Качество классификации новой модели - ответ в задании 2. Обратите внимание, как соотносится качество работы композиции решающих деревьев с качеством работы одного решающего дерева."
   ]
  },
  {
   "cell_type": "code",
   "execution_count": 17,
   "id": "51ca28de",
   "metadata": {},
   "outputs": [
    {
     "name": "stdout",
     "output_type": "stream",
     "text": [
      "0.9225977653631287\n"
     ]
    }
   ],
   "source": [
    "# place your code here\n",
    "bagging_clf = ensemble.BaggingClassifier(classifier, n_estimators=100)\n",
    "x_val_score = cross_val_score(bagging_clf, X, y, cv=10).mean()\n",
    "write_answer(x_val_score, 'answer_2.txt')\n",
    "print(x_val_score)"
   ]
  },
  {
   "cell_type": "markdown",
   "id": "c1d4e888",
   "metadata": {},
   "source": [
    "## Задание 3.\n",
    "Теперь изучите параметры BaggingClassifier и выберите их такими, чтобы каждый базовый алгоритм обучался не на всех d признаках, а на $\\sqrt{d}$ случайных признаков. Качество работы получившегося классификатора - ответ в задании 3. Корень из числа признаков - часто используемая эвристика в задачах классификации, в задачах регрессии же часто берут число признаков, деленное на три. Но в общем случае ничто не мешает вам выбирать любое другое число случайных признаков."
   ]
  },
  {
   "cell_type": "code",
   "execution_count": 19,
   "id": "0441799a",
   "metadata": {},
   "outputs": [
    {
     "name": "stdout",
     "output_type": "stream",
     "text": [
      "0.9354531346989446\n"
     ]
    }
   ],
   "source": [
    "# place your code here\n",
    "stoch_train_len = int(sqrt(X.shape[1]))\n",
    "\n",
    "bagging_clf = ensemble.BaggingClassifier(classifier, n_estimators=100, max_features=stoch_train_len)\n",
    "x_val_score = cross_val_score(bagging_clf, X, y, cv=10).mean()\n",
    "write_answer(x_val_score, 'answer_3.txt')\n",
    "print(x_val_score)"
   ]
  },
  {
   "cell_type": "markdown",
   "id": "919d2631",
   "metadata": {},
   "source": [
    "## Задание 4.\n",
    "Наконец, давайте попробуем выбирать случайные признаки не один раз на все дерево, а при построении каждой вершины дерева. Сделать это несложно: нужно убрать выбор случайного подмножества признаков в BaggingClassifier и добавить его в DecisionTreeClassifier. Какой параметр за это отвечает, можно понять из документации sklearn, либо просто попробовать угадать (скорее всего, у вас сразу получится). Попробуйте выбирать опять же $\\sqrt{d}$ признаков. Качество полученного классификатора на контрольной выборке и будет ответом в этом задании."
   ]
  },
  {
   "cell_type": "code",
   "execution_count": 20,
   "id": "5e00f530",
   "metadata": {},
   "outputs": [
    {
     "name": "stdout",
     "output_type": "stream",
     "text": [
      "0.9354531346989446\n"
     ]
    }
   ],
   "source": [
    "# place your code here\n",
    "stoch_clf = tree.DecisionTreeClassifier(max_features=stoch_train_len)\n",
    "bagging_clf = ensemble.BaggingClassifier(stoch_clf, n_estimators=100)\n",
    "x_val_score_own = cross_val_score(bagging_clf, X, y, cv=10).mean()\n",
    "write_answer(x_val_score_own, 'answer_4.txt')\n",
    "print(x_val_score)"
   ]
  },
  {
   "cell_type": "markdown",
   "id": "2217d6e8",
   "metadata": {},
   "source": [
    "## Задание 5.\n",
    "Полученный в пункте 4 классификатор - бэггинг на рандомизированных деревьях (в которых при построении каждой вершины выбирается случайное подмножество признаков и разбиение ищется только по ним). Это в точности соответствует алгоритму Random Forest, поэтому почему бы не сравнить качество работы классификатора с RandomForestClassifier из sklearn.ensemble. Сделайте это."
   ]
  },
  {
   "cell_type": "code",
   "execution_count": 21,
   "id": "3ef41bab",
   "metadata": {},
   "outputs": [
    {
     "name": "stdout",
     "output_type": "stream",
     "text": [
      "0.9487988826815641\n"
     ]
    }
   ],
   "source": [
    "# place your code here\n",
    "random_forest_clf = ensemble.RandomForestClassifier(random_state=stoch_train_len, n_estimators=100)\n",
    "x_val_score_lib = cross_val_score(random_forest_clf, X, y, cv=10).mean()\n",
    "print(x_val_score_lib)"
   ]
  },
  {
   "cell_type": "code",
   "execution_count": null,
   "id": "4c8b8714",
   "metadata": {},
   "outputs": [],
   "source": []
  }
 ],
 "metadata": {
  "kernelspec": {
   "display_name": "Python 3 (ipykernel)",
   "language": "python",
   "name": "python3"
  },
  "language_info": {
   "codemirror_mode": {
    "name": "ipython",
    "version": 3
   },
   "file_extension": ".py",
   "mimetype": "text/x-python",
   "name": "python",
   "nbconvert_exporter": "python",
   "pygments_lexer": "ipython3",
   "version": "3.9.7"
  }
 },
 "nbformat": 4,
 "nbformat_minor": 5
}
